{
 "cells": [
  {
   "cell_type": "code",
   "execution_count": 2,
   "id": "8e5c8b92",
   "metadata": {},
   "outputs": [],
   "source": [
    "# import package\n",
    "import pandas as pd\n",
    "import numpy as np\n",
    "from collections import defaultdict\n",
    "\n",
    "# define the interested columns\n",
    "INTERESTED_COLUMNS = {\n",
    "    'mouse_ccds': ['gene_id', 'ccds_id', 'ccds_status', 'match_type'],\n",
    "    'mouse_ccds_attributes': ['#ccds', 'gene_id', 'ccds_status', 'attribute'],\n",
    "    'human_ccds': ['gene_id', 'ccds_id', 'ccds_status', 'match_type'],\n",
    "    'human_ccds_attributes': ['#ccds', 'gene_id', 'ccds_status', 'attribute']\n",
    "}"
   ]
  },
  {
   "cell_type": "markdown",
   "id": "4a89f322",
   "metadata": {},
   "source": [
    "# Data Analyze on RefSeq Data"
   ]
  },
  {
   "cell_type": "markdown",
   "id": "aa402de0",
   "metadata": {},
   "source": [
    "## Data Cleaning"
   ]
  },
  {
   "cell_type": "code",
   "execution_count": 3,
   "id": "4de4098a",
   "metadata": {},
   "outputs": [],
   "source": [
    "# Load the mouse CCDS data\n",
    "mouse_ccds = pd.read_csv(\"data/mouse_CCDS.current.txt\", sep=\"\\t\", comment=\"/\")\n",
    "mouse_ccds_attributes = pd.read_csv(\"data/mouse_CCDS_attributes.current.txt\", sep=\"\\t\", comment=\"/\")\n",
    "\n",
    "# Load the human CCDS data\n",
    "human_ccds = pd.read_csv(\"data/human_CCDS_current.txt\", sep=\"\\t\", comment=\"/\")\n",
    "human_ccds_attributes = pd.read_csv(\"data/human_CCDS_attributes.current.txt\", sep=\"\\t\", comment=\"/\")\n",
    "\n",
    "mouse_ccds = mouse_ccds[INTERESTED_COLUMNS['mouse_ccds']]\n",
    "mouse_ccds_attributes = mouse_ccds_attributes[INTERESTED_COLUMNS['mouse_ccds_attributes']]\n",
    "human_ccds = human_ccds[INTERESTED_COLUMNS['human_ccds']]\n",
    "human_ccds_attributes = human_ccds_attributes[INTERESTED_COLUMNS['human_ccds_attributes']]\n",
    "\n",
    "# drop the duplicate rows\n",
    "mouse_ccds.drop_duplicates(inplace=True)\n",
    "human_ccds.drop_duplicates(inplace=True)\n",
    "mouse_ccds_attributes.drop_duplicates(inplace=True)\n",
    "human_ccds_attributes.drop_duplicates(inplace=True)\n",
    "\n",
    "# making column name universal\n",
    "columnNameMapping = {\n",
    "    \"#ccds\": 'ccds_id',\n",
    "    \"match_type\": 'ccds_match_type',\n",
    "    \"attribute\": 'ccds_attribute'\n",
    "}\n",
    "\n",
    "mouse_ccds.rename(columns=columnNameMapping, inplace=True)\n",
    "mouse_ccds_attributes.rename(columns=columnNameMapping, inplace=True)\n",
    "human_ccds.rename(columns=columnNameMapping, inplace=True)\n",
    "human_ccds_attributes.rename(columns=columnNameMapping, inplace=True)"
   ]
  },
  {
   "cell_type": "code",
   "execution_count": 4,
   "id": "c81e47ef",
   "metadata": {},
   "outputs": [
    {
     "data": {
      "text/html": [
       "<div>\n",
       "<style scoped>\n",
       "    .dataframe tbody tr th:only-of-type {\n",
       "        vertical-align: middle;\n",
       "    }\n",
       "\n",
       "    .dataframe tbody tr th {\n",
       "        vertical-align: top;\n",
       "    }\n",
       "\n",
       "    .dataframe thead th {\n",
       "        text-align: right;\n",
       "    }\n",
       "</style>\n",
       "<table border=\"1\" class=\"dataframe\">\n",
       "  <thead>\n",
       "    <tr style=\"text-align: right;\">\n",
       "      <th></th>\n",
       "      <th>gene_id</th>\n",
       "      <th>ccds_id</th>\n",
       "      <th>ccds_status</th>\n",
       "      <th>ccds_match_type</th>\n",
       "    </tr>\n",
       "  </thead>\n",
       "  <tbody>\n",
       "    <tr>\n",
       "      <th>0</th>\n",
       "      <td>497097</td>\n",
       "      <td>CCDS14803.1</td>\n",
       "      <td>Public</td>\n",
       "      <td>Identical</td>\n",
       "    </tr>\n",
       "    <tr>\n",
       "      <th>1</th>\n",
       "      <td>19888</td>\n",
       "      <td>CCDS14804.1</td>\n",
       "      <td>Public</td>\n",
       "      <td>Identical</td>\n",
       "    </tr>\n",
       "    <tr>\n",
       "      <th>2</th>\n",
       "      <td>20671</td>\n",
       "      <td>CCDS14805.1</td>\n",
       "      <td>Public</td>\n",
       "      <td>Identical</td>\n",
       "    </tr>\n",
       "    <tr>\n",
       "      <th>3</th>\n",
       "      <td>18777</td>\n",
       "      <td>CCDS14806.1</td>\n",
       "      <td>Public</td>\n",
       "      <td>Identical</td>\n",
       "    </tr>\n",
       "    <tr>\n",
       "      <th>4</th>\n",
       "      <td>58175</td>\n",
       "      <td>CCDS14807.1</td>\n",
       "      <td>Public</td>\n",
       "      <td>Identical</td>\n",
       "    </tr>\n",
       "    <tr>\n",
       "      <th>...</th>\n",
       "      <td>...</td>\n",
       "      <td>...</td>\n",
       "      <td>...</td>\n",
       "      <td>...</td>\n",
       "    </tr>\n",
       "    <tr>\n",
       "      <th>27615</th>\n",
       "      <td>100862059</td>\n",
       "      <td>CCDS90794.1</td>\n",
       "      <td>Public</td>\n",
       "      <td>Identical</td>\n",
       "    </tr>\n",
       "    <tr>\n",
       "      <th>27616</th>\n",
       "      <td>100862075</td>\n",
       "      <td>CCDS90795.1</td>\n",
       "      <td>Public</td>\n",
       "      <td>Identical</td>\n",
       "    </tr>\n",
       "    <tr>\n",
       "      <th>27617</th>\n",
       "      <td>385550</td>\n",
       "      <td>CCDS90798.1</td>\n",
       "      <td>Public</td>\n",
       "      <td>Identical</td>\n",
       "    </tr>\n",
       "    <tr>\n",
       "      <th>27618</th>\n",
       "      <td>100861839</td>\n",
       "      <td>CCDS90811.1</td>\n",
       "      <td>Public</td>\n",
       "      <td>Identical</td>\n",
       "    </tr>\n",
       "    <tr>\n",
       "      <th>27619</th>\n",
       "      <td>100042594</td>\n",
       "      <td>CCDS90813.1</td>\n",
       "      <td>Public</td>\n",
       "      <td>Identical</td>\n",
       "    </tr>\n",
       "  </tbody>\n",
       "</table>\n",
       "<p>27620 rows × 4 columns</p>\n",
       "</div>"
      ],
      "text/plain": [
       "         gene_id      ccds_id ccds_status ccds_match_type\n",
       "0         497097  CCDS14803.1      Public       Identical\n",
       "1          19888  CCDS14804.1      Public       Identical\n",
       "2          20671  CCDS14805.1      Public       Identical\n",
       "3          18777  CCDS14806.1      Public       Identical\n",
       "4          58175  CCDS14807.1      Public       Identical\n",
       "...          ...          ...         ...             ...\n",
       "27615  100862059  CCDS90794.1      Public       Identical\n",
       "27616  100862075  CCDS90795.1      Public       Identical\n",
       "27617     385550  CCDS90798.1      Public       Identical\n",
       "27618  100861839  CCDS90811.1      Public       Identical\n",
       "27619  100042594  CCDS90813.1      Public       Identical\n",
       "\n",
       "[27620 rows x 4 columns]"
      ]
     },
     "execution_count": 4,
     "metadata": {},
     "output_type": "execute_result"
    }
   ],
   "source": [
    "mouse_ccds"
   ]
  },
  {
   "cell_type": "markdown",
   "id": "3c710511",
   "metadata": {},
   "source": [
    "## Difference Analysis\n",
    "Compare whether the `(gene_id, ccds_id)` pair exist in both ccds table and ccds_attribute_table"
   ]
  },
  {
   "cell_type": "code",
   "execution_count": 4,
   "id": "580b873d",
   "metadata": {},
   "outputs": [
    {
     "name": "stdout",
     "output_type": "stream",
     "text": [
      "Report for mouse_ccds_set but not in mouse_ccds_attributes_set:\n",
      "Count: 26742\n",
      "Percentage: 96.82%\n",
      "Examples: [(74156, 'CCDS26678.1'), (404315, 'CCDS52592.1'), (20446, 'CCDS36379.1'), (15185, 'CCDS40845.1'), (19043, 'CCDS50199.1')]\n",
      "\n",
      "Report for mouse_ccds_attributes_set but not in mouse_ccds_set:\n",
      "Count: 4\n",
      "Percentage: 0.44%\n",
      "Examples: [(22022, 'CCDS89968.1'), (68644, 'CCDS90655.1'), (211535, 'CCDS90243.1'), (68644, 'CCDS90654.1')]\n",
      "\n",
      "Report for human_ccds_set but not in human_ccds_attributes_set:\n",
      "Count: 36342\n",
      "Percentage: 96.22%\n",
      "Examples: [(6039, 'CCDS9558.1'), (319101, 'CCDS8834.1'), (390195, 'CCDS31559.1'), (8193, 'CCDS46064.2'), (51030, 'CCDS42274.1')]\n",
      "\n",
      "Report for human_ccds_attributes_set but not in human_ccds_set:\n",
      "Count: 1\n",
      "Percentage: 0.07%\n",
      "Examples: [(117134596, 'CCDS93115.1')]\n"
     ]
    }
   ],
   "source": [
    "# Case 1: Excluding ccds_status for mouse_ccds\n",
    "# Convert rows of mouse_ccds (excluding ccds_status) into tuples and save them in a set\n",
    "mouse_ccds_set_no_status = set(mouse_ccds[['gene_id', 'ccds_id']].drop_duplicates().itertuples(index=False, name=None))\n",
    "\n",
    "# Convert rows of mouse_ccds_attributes (excluding ccds_status) into tuples and save them in a set\n",
    "mouse_ccds_attributes_set_no_status = set(mouse_ccds_attributes[['gene_id', 'ccds_id']].drop_duplicates().itertuples(index=False, name=None))\n",
    "\n",
    "# Find elements in mouse_ccds_set_no_status but not in mouse_ccds_attributes_set_no_status\n",
    "only_in_mouse_ccds_no_status = mouse_ccds_set_no_status.difference(mouse_ccds_attributes_set_no_status)\n",
    "print(\"Report for mouse_ccds_set but not in mouse_ccds_attributes_set:\")\n",
    "print(f\"Count: {len(only_in_mouse_ccds_no_status)}\")\n",
    "print(f\"Percentage: {len(only_in_mouse_ccds_no_status) / len(mouse_ccds) * 100:.2f}%\")\n",
    "print(f\"Examples: {list(only_in_mouse_ccds_no_status)[:5]}\")\n",
    "\n",
    "# Find elements in mouse_ccds_attributes_set_no_status but not in mouse_ccds_set_no_status\n",
    "only_in_mouse_ccds_attributes_no_status = mouse_ccds_attributes_set_no_status.difference(mouse_ccds_set_no_status)\n",
    "print(\"\\nReport for mouse_ccds_attributes_set but not in mouse_ccds_set:\")\n",
    "print(f\"Count: {len(only_in_mouse_ccds_attributes_no_status)}\")\n",
    "print(f\"Percentage: {len(only_in_mouse_ccds_attributes_no_status) / len(mouse_ccds_attributes) * 100:.2f}%\")\n",
    "print(f\"Examples: {list(only_in_mouse_ccds_attributes_no_status)[:5]}\")\n",
    "\n",
    "\n",
    "# Case 2: Excluding ccds_status for human_ccds\n",
    "# Convert rows of human_ccds (excluding ccds_status) into tuples and save them in a set\n",
    "human_ccds_set_no_status = set(human_ccds[['gene_id', 'ccds_id']].drop_duplicates().itertuples(index=False, name=None))\n",
    "\n",
    "# Convert rows of human_ccds_attributes (excluding ccds_status) into tuples and save them in a set\n",
    "human_ccds_attributes_set_no_status = set(human_ccds_attributes[['gene_id', 'ccds_id']].drop_duplicates().itertuples(index=False, name=None))\n",
    "\n",
    "# Find elements in human_ccds_set_no_status but not in human_ccds_attributes_set_no_status\n",
    "only_in_human_ccds_no_status = human_ccds_set_no_status.difference(human_ccds_attributes_set_no_status)\n",
    "print(\"\\nReport for human_ccds_set but not in human_ccds_attributes_set:\")\n",
    "print(f\"Count: {len(only_in_human_ccds_no_status)}\")\n",
    "print(f\"Percentage: {len(only_in_human_ccds_no_status) / len(human_ccds) * 100:.2f}%\")\n",
    "print(f\"Examples: {list(only_in_human_ccds_no_status)[:5]}\")\n",
    "\n",
    "# Find elements in human_ccds_attributes_set_no_status but not in human_ccds_set_no_status\n",
    "only_in_human_ccds_attributes_no_status = human_ccds_attributes_set_no_status.difference(human_ccds_set_no_status)\n",
    "print(\"\\nReport for human_ccds_attributes_set but not in human_ccds_set:\")\n",
    "print(f\"Count: {len(only_in_human_ccds_attributes_no_status)}\")\n",
    "print(f\"Percentage: {len(only_in_human_ccds_attributes_no_status) / len(human_ccds_attributes) * 100:.2f}%\")\n",
    "print(f\"Examples: {list(only_in_human_ccds_attributes_no_status)[:5]}\")"
   ]
  },
  {
   "cell_type": "markdown",
   "id": "b8654911",
   "metadata": {},
   "source": [
    "## Discrepancy Analysis\n",
    "Validating the discrepancy of `ccds_status` in ccds table and ccds_attribute table. Ex. there is case when `ccds_status` in ccds table with the same `(gene_id, ccds_id)` pair is different from the `ccds_status` in ccds_attribute table."
   ]
  },
  {
   "cell_type": "code",
   "execution_count": 5,
   "id": "0187f7dc",
   "metadata": {},
   "outputs": [],
   "source": [
    "# Iterate over rows in mouse_ccds_attributes\n",
    "for _, attr_row in mouse_ccds_attributes.iterrows():\n",
    "    ccds_id = attr_row['ccds_id']\n",
    "    gene_id = attr_row['gene_id']\n",
    "    \n",
    "    # Skip rows where ccds_id or gene_id is missing\n",
    "    if pd.isnull(ccds_id) or pd.isnull(gene_id):\n",
    "        continue\n",
    "    \n",
    "    # Find the corresponding row in mouse_ccds\n",
    "    matching_rows = mouse_ccds[(mouse_ccds['ccds_id'] == ccds_id) & (mouse_ccds['gene_id'] == gene_id)]\n",
    "    \n",
    "    # If a matching row exists, compare ccds_status\n",
    "    if not matching_rows.empty:\n",
    "        if matching_rows.shape[0] > 1:\n",
    "            print(f\"Multiple matching rows found for ccds_id: {ccds_id}, gene_id: {gene_id}\")\n",
    "            continue\n",
    "\n",
    "        ccds_status_attr = attr_row['ccds_status']\n",
    "        ccds_status_ccds = matching_rows.iloc[0]['ccds_status']\n",
    "        \n",
    "        if ccds_status_attr != ccds_status_ccds:\n",
    "            print(f\"Mismatch found for ccds_id: {ccds_id}, gene_id: {gene_id}\")\n",
    "            print(f\"mouse_ccds_attributes ccds_status: {ccds_status_attr}\")\n",
    "            print(f\"mouse_ccds ccds_status: {ccds_status_ccds}\")"
   ]
  },
  {
   "cell_type": "markdown",
   "id": "c03af5fd",
   "metadata": {},
   "source": [
    "## Validation on one to many relationship"
   ]
  },
  {
   "cell_type": "code",
   "execution_count": 6,
   "id": "4c7741a1",
   "metadata": {},
   "outputs": [
    {
     "name": "stdout",
     "output_type": "stream",
     "text": [
      "One-to-Many Relationship (gene_id to ccds_id):\n",
      "gene_id\n",
      "21957     15\n",
      "226025    14\n",
      "11994     14\n",
      "12916     14\n",
      "16536     12\n",
      "Name: ccds_id, dtype: int64\n",
      "\n",
      "One-to-Many Relationship (ccds_id to gene_id):\n",
      "ccds_id\n",
      "CCDS14803.1    1\n",
      "CCDS48997.1    1\n",
      "CCDS48995.1    1\n",
      "CCDS48994.1    1\n",
      "CCDS48993.1    1\n",
      "Name: gene_id, dtype: int64\n"
     ]
    }
   ],
   "source": [
    "# Stack the two dataframes vertically\n",
    "stacked_df = pd.concat([mouse_ccds[['gene_id', 'ccds_id']], mouse_ccds_attributes[['gene_id', 'ccds_id']]])\n",
    "\n",
    "# Verify the one-to-many relationship by grouping by gene_id and counting the number of associated ccds_id\n",
    "gene_to_ccds_count = stacked_df.groupby('gene_id')['ccds_id'].nunique().sort_values(ascending=False)\n",
    "print(\"One-to-Many Relationship (gene_id to ccds_id):\")\n",
    "print(gene_to_ccds_count.head())  # Example counts\n",
    "\n",
    "# Verify the one-to-many relationship by grouping by ccds_id and counting the number of associated gene_id\n",
    "ccds_to_gene_count = stacked_df.groupby('ccds_id')['gene_id'].nunique().sort_values(ascending=False)\n",
    "print(\"\\nOne-to-Many Relationship (ccds_id to gene_id):\")\n",
    "print(ccds_to_gene_count.head())  # Example counts"
   ]
  },
  {
   "cell_type": "markdown",
   "id": "d51d3368",
   "metadata": {},
   "source": [
    "- One gene_id has multiple ccds_id\n",
    "- One ccds_id only has one gene_id associated with that"
   ]
  },
  {
   "cell_type": "markdown",
   "id": "f79f16b4",
   "metadata": {},
   "source": [
    "# Finding status categories"
   ]
  },
  {
   "cell_type": "code",
   "execution_count": null,
   "id": "180d569b",
   "metadata": {},
   "outputs": [
    {
     "data": {
      "text/plain": [
       "{'Candidate',\n",
       " 'Public',\n",
       " 'Reviewed, update pending',\n",
       " 'Reviewed, withdrawal pending',\n",
       " 'Under review, update',\n",
       " 'Under review, withdrawal',\n",
       " 'Withdrawn',\n",
       " 'Withdrawn, inconsistent annotation'}"
      ]
     },
     "execution_count": 12,
     "metadata": {},
     "output_type": "execute_result"
    }
   ],
   "source": [
    "human_ccds['ccds_status'].value_counts()\n",
    "# human_ccds_attributes['ccds_status'].value_counts()\n",
    "\n",
    "# loop through all the ccds_status in all tables\n",
    "ccds_status = set()\n",
    "for df in [mouse_ccds, mouse_ccds_attributes, human_ccds, human_ccds_attributes]:\n",
    "    ccds_status.update(df['ccds_status'].unique())\n",
    "\n",
    "ccds_status"
   ]
  },
  {
   "cell_type": "code",
   "execution_count": 15,
   "id": "9c6822f6",
   "metadata": {},
   "outputs": [
    {
     "data": {
      "text/plain": [
       "ccds_match_type\n",
       "Identical    27516\n",
       "Partial         65\n",
       "Name: count, dtype: int64"
      ]
     },
     "execution_count": 15,
     "metadata": {},
     "output_type": "execute_result"
    }
   ],
   "source": [
    "mouse_ccds['ccds_match_type'].value_counts()"
   ]
  },
  {
   "cell_type": "code",
   "execution_count": 17,
   "id": "c354e22f",
   "metadata": {},
   "outputs": [
    {
     "data": {
      "text/plain": [
       "{'CDS uses downstream AUG',\n",
       " 'Contains selenocysteine',\n",
       " 'Endogenous retrovirus',\n",
       " 'Inferred exon combination',\n",
       " 'Non-AUG initiation codon',\n",
       " 'Nonsense-mediated decay (NMD) candidate',\n",
       " 'Polymorphic pseudogene',\n",
       " 'Ribosomal slippage (translational frameshift)',\n",
       " 'polyA required for stop codon'}"
      ]
     },
     "execution_count": 17,
     "metadata": {},
     "output_type": "execute_result"
    }
   ],
   "source": [
    "# loop through all the ccds_status in all tables\n",
    "ccds_attribute = set()\n",
    "for df in [mouse_ccds_attributes, human_ccds_attributes]:\n",
    "    ccds_attribute.update(df['ccds_attribute'].unique())\n",
    "\n",
    "ccds_attribute"
   ]
  },
  {
   "cell_type": "code",
   "execution_count": 1,
   "id": "b723cece",
   "metadata": {},
   "outputs": [
    {
     "ename": "NameError",
     "evalue": "name 'human_ccds_attributes' is not defined",
     "output_type": "error",
     "traceback": [
      "\u001b[0;31m---------------------------------------------------------------------------\u001b[0m",
      "\u001b[0;31mNameError\u001b[0m                                 Traceback (most recent call last)",
      "Cell \u001b[0;32mIn[1], line 1\u001b[0m\n\u001b[0;32m----> 1\u001b[0m \u001b[43mhuman_ccds_attributes\u001b[49m\n",
      "\u001b[0;31mNameError\u001b[0m: name 'human_ccds_attributes' is not defined"
     ]
    }
   ],
   "source": [
    "human_ccds_attributes"
   ]
  },
  {
   "cell_type": "code",
   "execution_count": null,
   "id": "4a1b6156",
   "metadata": {},
   "outputs": [],
   "source": []
  }
 ],
 "metadata": {
  "kernelspec": {
   "display_name": "dsc80",
   "language": "python",
   "name": "python3"
  },
  "language_info": {
   "codemirror_mode": {
    "name": "ipython",
    "version": 3
   },
   "file_extension": ".py",
   "mimetype": "text/x-python",
   "name": "python",
   "nbconvert_exporter": "python",
   "pygments_lexer": "ipython3",
   "version": "3.8.19"
  }
 },
 "nbformat": 4,
 "nbformat_minor": 5
}
